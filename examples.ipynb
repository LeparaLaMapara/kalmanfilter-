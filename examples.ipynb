{
 "cells": [
  {
   "cell_type": "code",
   "execution_count": 9,
   "metadata": {},
   "outputs": [
    {
     "ename": "ModuleNotFoundError",
     "evalue": "No module named 'numpy'",
     "output_type": "error",
     "traceback": [
      "\u001b[1;31m---------------------------------------------------------------------------\u001b[0m",
      "\u001b[1;31mModuleNotFoundError\u001b[0m                       Traceback (most recent call last)",
      "Cell \u001b[1;32mIn[9], line 1\u001b[0m\n\u001b[1;32m----> 1\u001b[0m \u001b[38;5;28;01mimport\u001b[39;00m \u001b[38;5;21;01mnumpy\u001b[39;00m \u001b[38;5;28;01mas\u001b[39;00m \u001b[38;5;21;01mnp\u001b[39;00m\n\u001b[0;32m      3\u001b[0m \u001b[38;5;28;01mclass\u001b[39;00m \u001b[38;5;21;01mKalmanFilter\u001b[39;00m:\n\u001b[0;32m      4\u001b[0m     \u001b[38;5;28;01mdef\u001b[39;00m \u001b[38;5;21m__init__\u001b[39m(\u001b[38;5;28mself\u001b[39m, state_dim, obs_dim, A, B, H, Q, R, P):\n",
      "\u001b[1;31mModuleNotFoundError\u001b[0m: No module named 'numpy'"
     ]
    }
   ],
   "source": [
    "import numpy as np\n",
    "\n",
    "class KalmanFilter:\n",
    "    def __init__(self, state_dim, obs_dim, A, B, H, Q, R, P):\n",
    "        self.state_dim = state_dim\n",
    "        self.obs_dim = obs_dim\n",
    "        self.A = A\n",
    "        self.B = B\n",
    "        self.H = H\n",
    "        self.Q = Q\n",
    "        self.R = R\n",
    "        self.P = P\n",
    "        self.x = np.zeros((state_dim, 1))\n",
    "    \n",
    "    def predict(self, u=None):\n",
    "        self.x = np.dot(self.A, self.x)\n",
    "        if u is not None:\n",
    "            self.x += np.dot(self.B, u)\n",
    "        self.P = np.dot(np.dot(self.A, self.P), self.A.T) + self.Q\n",
    "    \n",
    "    def update(self, z):\n",
    "        y = z - np.dot(self.H, self.x)\n",
    "        S = np.dot(np.dot(self.H, self.P), self.H.T) + self.R\n",
    "        K = np.dot(np.dot(self.P, self.H.T), np.linalg.inv(S))\n",
    "        self.x = self.x + np.dot(K, y)\n",
    "        I = np.eye(self.state_dim)\n",
    "        self.P = np.dot(np.dot(I - np.dot(K, self.H), self.P), (I - np.dot(K, self.H)).T) + np.dot(np.dot(K, self.R), K.T)\n",
    "\n",
    "def run_kalman_filter(time_series, A, B, H, Q, R, P, initial_state):\n",
    "    state_dim = initial_state.shape[0]\n",
    "    obs_dim = time_series.shape[1]\n",
    "    kf = KalmanFilter(state_dim, obs_dim, A, B, H, Q, R, P)\n",
    "    kf.x = initial_state\n",
    "    \n",
    "    filtered_states = np.zeros((len(time_series), state_dim))\n",
    "    for i in range(len(time_series)):\n",
    "        kf.predict()\n",
    "        kf.update(time_series[i])\n",
    "        filtered_states[i] = kf.x.T\n",
    "        \n",
    "    return filtered_states"
   ]
  },
  {
   "cell_type": "code",
   "execution_count": 10,
   "metadata": {},
   "outputs": [
    {
     "ename": "SyntaxError",
     "evalue": "incomplete input (2461510027.py, line 13)",
     "output_type": "error",
     "traceback": [
      "\u001b[1;36m  Cell \u001b[1;32mIn[10], line 13\u001b[1;36m\u001b[0m\n\u001b[1;33m    x1 = np.sin(\u001b[0m\n\u001b[1;37m                ^\u001b[0m\n\u001b[1;31mSyntaxError\u001b[0m\u001b[1;31m:\u001b[0m incomplete input\n"
     ]
    }
   ],
   "source": [
    "# Define the Kalman filter parameters\n",
    "state_dim = 2\n",
    "obs_dim = 1\n",
    "A = np.eye(state_dim)\n",
    "B = np.zeros((state_dim, 1))\n",
    "H = np.eye(obs_dim, state_dim)\n",
    "Q = 0.01 * np.eye(state_dim)\n",
    "R = 1.0 * np.eye(obs_dim)\n",
    "P = np.eye(state_dim)\n",
    "\n",
    "# Generate some time series data\n",
    "t = np.linspace(0, 10, 1000)\n",
    "x1 = np.sin("
   ]
  },
  {
   "cell_type": "code",
   "execution_count": null,
   "metadata": {},
   "outputs": [],
   "source": [
    "import torch\n",
    "import numpy as np\n",
    "\n",
    "class ParticleFilter:\n",
    "    def __init__(self, num_particles, state_dim, obs_dim, transition_model, observation_model):\n",
    "        self.num_particles = num_particles\n",
    "        self.state_dim = state_dim\n",
    "        self.obs_dim = obs_dim\n",
    "        self.transition_model = transition_model\n",
    "        self.observation_model = observation_model\n",
    "        self.particles = None\n",
    "        self.weights = None\n",
    "\n",
    "    def initialize(self, init_state):\n",
    "        self.particles = init_state.repeat(self.num_particles, 1)\n",
    "        self.weights = torch.ones(self.num_particles) / self.num_particles\n",
    "\n",
    "    def predict(self):\n",
    "        noise = torch.randn_like(self.particles)\n",
    "        self.particles = self.transition_model(self.particles) + noise\n",
    "\n",
    "    def update(self, obs):\n",
    "        obs = obs.repeat(self.num_particles, 1)\n",
    "        likelihood = self.observation_model(obs, self.particles)\n",
    "        self.weights *= likelihood\n",
    "        self.weights /= self.weights.sum()\n",
    "\n",
    "    def resample(self):\n",
    "        indices = np.random.choice(self.num_particles, size=self.num_particles, replace=True, p=self.weights)\n",
    "        self.particles = self.particles[indices]\n",
    "        self.weights = torch.ones(self.num_particles) / self.num_particles\n",
    "\n",
    "    def step(self, obs):\n",
    "        self.predict()\n",
    "        self.update(obs)\n",
    "        if 1 / (self.weights ** 2).sum() < self.num_particles / 2:\n",
    "            self.resample()\n",
    "        estimate = torch.sum(self.particles * self.weights.unsqueeze(-1), axis=0)\n",
    "        return estimate"
   ]
  },
  {
   "cell_type": "code",
   "execution_count": null,
   "metadata": {},
   "outputs": [],
   "source": [
    "In this implementation, we define a class called ParticleFilter which takes in the number of particles, state and observation dimensions, as well as the transition and observation models as arguments.\n",
    "\n",
    "The initialize method initializes the particles and their weights based on the initial state.\n",
    "\n",
    "The predict method propagates the particles forward in time using the transition model and adds some noise to the resulting state.\n",
    "\n",
    "The update method computes the likelihood of the observations given each particle's state, and updates the particle weights accordingly.\n",
    "\n",
    "The resample method resamples particles based on their weights to ensure that the particle distribution is not degenerate.\n",
    "\n",
    "The step method performs one iteration of the particle filter, calling predict, update, and resample as necessary. It returns the current estimate of the state.\n",
    "\n",
    "Overall, this implementation uses PyTorch tensors to store and manipulate particle states and weights, making it easy to parallelize and run on a GPU if needed."
   ]
  }
 ],
 "metadata": {
  "kernelspec": {
   "display_name": "Python 3.10.6 64-bit",
   "language": "python",
   "name": "python3"
  },
  "language_info": {
   "codemirror_mode": {
    "name": "ipython",
    "version": 3
   },
   "file_extension": ".py",
   "mimetype": "text/x-python",
   "name": "python",
   "nbconvert_exporter": "python",
   "pygments_lexer": "ipython3",
   "version": "3.10.6"
  },
  "orig_nbformat": 4,
  "vscode": {
   "interpreter": {
    "hash": "369f2c481f4da34e4445cda3fffd2e751bd1c4d706f27375911949ba6bb62e1c"
   }
  }
 },
 "nbformat": 4,
 "nbformat_minor": 2
}
